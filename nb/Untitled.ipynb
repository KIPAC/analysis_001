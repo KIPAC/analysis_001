{
 "cells": [
  {
   "cell_type": "code",
   "execution_count": 3,
   "metadata": {},
   "outputs": [
    {
     "ename": "ModuleNotFoundError",
     "evalue": "No module named 'nuXgal'",
     "output_type": "error",
     "traceback": [
      "\u001b[0;31m---------------------------------------------------------------------------\u001b[0m",
      "\u001b[0;31mModuleNotFoundError\u001b[0m                       Traceback (most recent call last)",
      "\u001b[0;32m<ipython-input-3-c2507ec58ba1>\u001b[0m in \u001b[0;36m<module>\u001b[0;34m\u001b[0m\n\u001b[1;32m      9\u001b[0m \u001b[0;32mimport\u001b[0m \u001b[0memcee\u001b[0m\u001b[0;34m\u001b[0m\u001b[0m\n\u001b[1;32m     10\u001b[0m \u001b[0;34m\u001b[0m\u001b[0m\n\u001b[0;32m---> 11\u001b[0;31m \u001b[0;32mfrom\u001b[0m \u001b[0mnuXgal\u001b[0m \u001b[0;32mimport\u001b[0m \u001b[0mDefaults\u001b[0m\u001b[0;34m\u001b[0m\u001b[0m\n\u001b[0m\u001b[1;32m     12\u001b[0m \u001b[0;34m\u001b[0m\u001b[0m\n\u001b[1;32m     13\u001b[0m \u001b[0;32mfrom\u001b[0m \u001b[0mKIPAC\u001b[0m\u001b[0;34m.\u001b[0m\u001b[0mnuXgal\u001b[0m\u001b[0;34m.\u001b[0m\u001b[0mEventGenerator\u001b[0m \u001b[0;32mimport\u001b[0m \u001b[0mEventGenerator\u001b[0m\u001b[0;34m\u001b[0m\u001b[0m\n",
      "\u001b[0;31mModuleNotFoundError\u001b[0m: No module named 'nuXgal'"
     ]
    }
   ],
   "source": [
    "import os\n",
    "\n",
    "import numpy as np\n",
    "\n",
    "import healpy as hp\n",
    "\n",
    "from scipy.optimize import minimize\n",
    "\n",
    "import emcee\n",
    "\n",
    "from nuXgal import Defaults\n",
    "\n",
    "from KIPAC.nuXgal.EventGenerator import EventGenerator\n",
    "\n",
    "from KIPAC.nuXgal.Analyze import Analyze\n",
    "\n",
    "from KIPAC.nuXgal.Likelihood import Likelihood\n",
    "\n",
    "from KIPAC.nuXgal.file_utils import read_maps_from_fits, write_maps_to_fits\n",
    "\n",
    "from KIPAC.nuXgal.hp_utils import vector_apply_mask, vector_apply_mask_hp\n",
    "\n",
    "from KIPAC.nuXgal.plot_utils import FigureDict\n",
    "\n",
    "from KIPAC.nuXgal.GalaxySample import GalaxySample\n",
    "\n",
    "from Utils import MAKE_TEST_PLOTS\n",
    "\n",
    "from scipy import stats"
   ]
  },
  {
   "cell_type": "code",
   "execution_count": null,
   "metadata": {},
   "outputs": [],
   "source": []
  }
 ],
 "metadata": {
  "kernelspec": {
   "display_name": "nuXgal",
   "language": "python",
   "name": "nuxgal"
  },
  "language_info": {
   "codemirror_mode": {
    "name": "ipython",
    "version": 3
   },
   "file_extension": ".py",
   "mimetype": "text/x-python",
   "name": "python",
   "nbconvert_exporter": "python",
   "pygments_lexer": "ipython3",
   "version": "3.7.0"
  }
 },
 "nbformat": 4,
 "nbformat_minor": 2
}
