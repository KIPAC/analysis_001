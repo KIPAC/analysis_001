{
 "cells": [
  {
   "cell_type": "code",
   "execution_count": null,
   "metadata": {},
   "outputs": [],
   "source": [
    "#from __future__ import print_function\n",
    "import numpy as np\n",
    "import matplotlib.pyplot as plt\n",
    "%matplotlib inline\n",
    "from scipy import integrate as integrate\n",
    "from matplotlib import gridspec\n",
    "import scipy.signal\n",
    "import healpy as hp\n",
    "#import Corrfunc\n",
    "from numba import jit"
   ]
  },
  {
   "cell_type": "code",
   "execution_count": null,
   "metadata": {},
   "outputs": [],
   "source": [
    "plt.rc(\"text\", usetex=True)\n",
    "plt.rc(\"font\", size=20)\n",
    "plt.rcParams[\"axes.linewidth\"]  = 1.5\n",
    "plt.rcParams[\"xtick.major.size\"]  = 8\n",
    "plt.rcParams[\"xtick.minor.size\"]  = 3\n",
    "plt.rcParams[\"ytick.major.size\"]  = 8\n",
    "plt.rcParams[\"ytick.minor.size\"]  = 3\n",
    "plt.rcParams[\"xtick.direction\"]  = \"in\"\n",
    "plt.rcParams[\"ytick.direction\"]  = \"in\"\n",
    "plt.rcParams[\"legend.frameon\"] = 'False'\n"
   ]
  },
  {
   "cell_type": "code",
   "execution_count": null,
   "metadata": {},
   "outputs": [],
   "source": [
    "@jit(nopython=True)\n",
    "def poisson_sampling(hpmap,n_sample):\n",
    "    count = 0\n",
    "    high = len(hpmap)\n",
    "    count_map = np.zeros(high)\n",
    "    while count<n_sample:\n",
    "        pix = np.random.randint(0,len(hpmap))\n",
    "        pix_count = np.random.poisson(1.0+hpmap[pix])\n",
    "        count_map[pix] += pix_count\n",
    "        count += pix_count\n",
    "        \n",
    "    return count_map\n",
    "\n",
    "# generate a density map using cl\n",
    "def density_cl(cl, nside, randomSeed):\n",
    "    np.random.seed(randomSeed)\n",
    "    alm = hp.sphtfunc.synalm(cl,lmax = 3*nside -1)\n",
    "    density = hp.sphtfunc.alm2map(alm, nside,  verbose=False)\n",
    "    return density\n",
    "\n",
    "def overdensityMap(countsMap):\n",
    "    mean = np.mean(countsMap)\n",
    "    return ( countsMap - mean ) / mean\n",
    "\n",
    "\n",
    "def w_cross_IsotripicMaps_std(cl_isotropic, nside, N_event, overdensityMap_g, N_re=100):\n",
    "    # N_re = number of realizations\n",
    "    w_cross_random = np.zeros((N_re, 3*nside))\n",
    "    # Generate an isotropic neutrino sample \n",
    "    for i in range (N_re):\n",
    "        density_random = density_cl(cl_isotropic, nside, i+50)\n",
    "        events_map_random = poisson_sampling(density_random,N_event)\n",
    "        overdensity_random = overdensityMap(events_map_random)\n",
    "        w_cross_random[i] = hp.sphtfunc.anafast(overdensityMap_g, overdensity_random)\n",
    "    return np.std(w_cross_random, axis=0)\n",
    "    \n",
    "def w_cross_astrophysical_atm(cl_isotropic, nside, Natm_Nnu, eventMap_nu, overdensityMap_g, N_re=100):\n",
    "    density_isotropic = density_cl(cl_isotropic, nside, 5098)\n",
    "    events_map_isotropic = poisson_sampling(density_isotropic,Natm_Nnu * N_nu)\n",
    "    events_map_combined = eventMap_nu + events_map_isotropic\n",
    "    overdensityMap_combined = overdensityMap(events_map_combined)\n",
    "    #cl_combined = hp.sphtfunc.anafast(overdensityMap_combined)\n",
    "    w_cross_combined = hp.sphtfunc.anafast(overdensityMap_g,overdensityMap_combined)\n",
    "    # comparing with a pure background\n",
    "    w_std = w_cross_IsotripicMaps_std(cl_isotropic, nside, N_nu * (Natm_Nnu + 1), overdensityMap_g, N_re)\n",
    "    chi_square = np.sum(w_cross_combined[1:]**2 / w_std[1:]**2)\n",
    "    return significance(chi_square, len(w_cross_combined[1:]))\n",
    "\n",
    "\n",
    "    \n",
    "    \n",
    "from scipy.stats import chisqprob, norm, distributions\n",
    "def significance(chi_square, dof):\n",
    "    p_value = distributions.chi2.sf(chi_square, dof-1)\n",
    "    significance_twoTailNorm = norm.ppf(1. - p_value / 2)\n",
    "    return significance_twoTailNorm \n",
    "\n"
   ]
  },
  {
   "cell_type": "markdown",
   "metadata": {},
   "source": [
    "## Create a power spectrum"
   ]
  },
  {
   "cell_type": "code",
   "execution_count": null,
   "metadata": {},
   "outputs": [],
   "source": [
    "NSIDE = 128\n",
    "l = np.linspace(1, 500, 500)\n",
    "cl = 0.005/l**1.5 # Power spectrum of the \"normal\" galaxies\n",
    "cl_2 = 0.005*1.3/l**1.5 #Power spectrum from which the galaxies hosting high energy neutrino events will be drawn"
   ]
  },
  {
   "cell_type": "code",
   "execution_count": null,
   "metadata": {
    "scrolled": true
   },
   "outputs": [],
   "source": [
    "plt.loglog(l,cl)\n",
    "plt.loglog(l,cl_2)"
   ]
  },
  {
   "cell_type": "markdown",
   "metadata": {},
   "source": [
    "## Create a realization of each power spectrum. Note that the realization seed should be the same"
   ]
  },
  {
   "cell_type": "code",
   "execution_count": null,
   "metadata": {},
   "outputs": [],
   "source": [
    "density_g = density_cl(cl, NSIDE, 42)\n",
    "density_nu = density_cl(cl_2, NSIDE, 42)\n",
    "hp.mollview(density_g)\n",
    "hp.mollview(density_nu)"
   ]
  },
  {
   "cell_type": "markdown",
   "metadata": {},
   "source": [
    "## Poisson sample each map. Map 1 gives the galaxy density map. Map 2 gives the neutrino events map"
   ]
  },
  {
   "cell_type": "code",
   "execution_count": null,
   "metadata": {},
   "outputs": [],
   "source": [
    "## Poisson sample each map. Map 1 gives the galaxy density map. Map 2 gives the neutrino events mapevents_map_g = poisson_sampling(density_g, 2000000)\n",
    "N_g = 2000000\n",
    "N_nu = 2000\n",
    "events_map_g = poisson_sampling(density_g, N_g)\n",
    "events_map_nu = poisson_sampling(density_nu, N_nu)\n",
    "hp.mollview(events_map_g)\n",
    "hp.mollview(events_map_nu)"
   ]
  },
  {
   "cell_type": "markdown",
   "metadata": {},
   "source": [
    "## Convert density maps to overdensities"
   ]
  },
  {
   "cell_type": "code",
   "execution_count": null,
   "metadata": {},
   "outputs": [],
   "source": [
    "overdensityMap_g = overdensityMap(events_map_g)\n",
    "overdensityMap_nu = overdensityMap(events_map_nu)\n",
    "\n",
    "l_cl = np.arange(1,3*NSIDE +1)\n",
    "cl_g = hp.sphtfunc.anafast(overdensityMap_g)\n",
    "cl_nu = hp.sphtfunc.anafast(overdensityMap_nu)\n",
    "w_cross = hp.sphtfunc.anafast(overdensityMap_g, overdensityMap_nu)\n"
   ]
  },
  {
   "cell_type": "code",
   "execution_count": null,
   "metadata": {
    "scrolled": true
   },
   "outputs": [],
   "source": [
    "plt.plot(l,cl)\n",
    "plt.plot(l_cl[1:],cl_g[1:], label='g')\n",
    "plt.plot(l_cl[1:],cl_nu[1:],label='nu')\n",
    "plt.plot(l_cl[1:],np.abs(w_cross[1:]), label='cross')\n",
    "\n",
    "plt.xscale('log')\n",
    "plt.yscale('log')\n",
    "plt.legend()"
   ]
  },
  {
   "cell_type": "markdown",
   "metadata": {},
   "source": [
    "# Generate an isotropic map"
   ]
  },
  {
   "cell_type": "code",
   "execution_count": null,
   "metadata": {},
   "outputs": [],
   "source": [
    "cl_isotropic = l*0.\n",
    "density_isotropic = density_cl(cl_isotropic, NSIDE, 202)\n",
    "hp.mollview(density_isotropic)\n",
    "events_map_isotropic = poisson_sampling(density_isotropic,N_nu)\n",
    "hp.mollview(events_map_isotropic)\n",
    "# the cross correlation level of galaxy samples with an isotropic background\n",
    "overdensityMap_isotropic = overdensityMap(events_map_isotropic)\n",
    "w_cross_isotropic = hp.sphtfunc.anafast(overdensityMap_g, overdensityMap_isotropic)\n"
   ]
  },
  {
   "cell_type": "markdown",
   "metadata": {},
   "source": [
    "# Calculate uncertainites of the cross-correlation function "
   ]
  },
  {
   "cell_type": "code",
   "execution_count": null,
   "metadata": {},
   "outputs": [],
   "source": [
    "w_std = w_cross_IsotripicMaps_std(cl_isotropic, NSIDE, N_nu, overdensityMap_g)"
   ]
  },
  {
   "cell_type": "code",
   "execution_count": null,
   "metadata": {},
   "outputs": [],
   "source": [
    "plt.plot(l_cl[1:], w_cross[1:])\n",
    "\n",
    "plt.errorbar(l_cl[1:], l_cl[1:] * 0., yerr=w_std[1:])\n",
    "plt.ylim(-1e-3, 1e-3)\n",
    "plt.plot(l_cl, l_cl * 0, '--')\n"
   ]
  },
  {
   "cell_type": "code",
   "execution_count": null,
   "metadata": {},
   "outputs": [],
   "source": [
    "chi_square = np.sum(w_cross[1:]**2 / w_std[1:]**2)\n",
    "print significance(chi_square, len(w_cross[1:]))\n"
   ]
  },
  {
   "cell_type": "markdown",
   "metadata": {},
   "source": [
    "# Signal with an isotropic background"
   ]
  },
  {
   "cell_type": "code",
   "execution_count": null,
   "metadata": {
    "scrolled": true
   },
   "outputs": [],
   "source": [
    "Natm_Nnu = 100\n",
    "events_map_isotropic2 = poisson_sampling(density_isotropic,Natm_Nnu * N_nu)\n",
    "events_map_combined = events_map_nu + events_map_isotropic2\n",
    "#hp.mollview(events_map_combined)"
   ]
  },
  {
   "cell_type": "code",
   "execution_count": null,
   "metadata": {},
   "outputs": [],
   "source": [
    "overdensityMap_combined = overdensityMap(events_map_combined)\n",
    "#cl_combined = hp.sphtfunc.anafast(overdensityMap_combined)\n",
    "w_cross_combined = hp.sphtfunc.anafast(overdensityMap_g,overdensityMap_combined)\n",
    "# comparing with a pure background\n",
    "w_std2 = w_cross_IsotripicMaps_std(cl_isotropic, NSIDE, N_nu * (Natm_Nnu + 1), overdensityMap_g)\n",
    "chi_square2 = np.sum(w_cross_combined[1:]**2 / w_std2[1:]**2)\n",
    "print significance(chi_square2, len(w_cross_combined[1:]))\n"
   ]
  },
  {
   "cell_type": "code",
   "execution_count": null,
   "metadata": {},
   "outputs": [],
   "source": [
    "print w_cross_astrophysical_atm(cl_isotropic, NSIDE, Natm_Nnu, events_map_nu, overdensityMap_g)\n",
    "\n",
    "\n",
    "\n",
    "plt.plot(l_cl[1:], w_cross_combined[1:])\n",
    "\n",
    "plt.errorbar(l_cl[1:], l_cl[1:] * 0., yerr=w_std2[1:])\n",
    "plt.ylim(-1e-4, 1e-4)\n",
    "plt.plot(l_cl, l_cl * 0, '--')\n",
    "\n"
   ]
  },
  {
   "cell_type": "markdown",
   "metadata": {},
   "source": [
    "## Realistic Galaxy Power Spectrum"
   ]
  },
  {
   "cell_type": "code",
   "execution_count": null,
   "metadata": {},
   "outputs": [],
   "source": [
    "cl_galaxy_file = np.loadtxt('Cl_ggRM.dat')\n",
    "cl_galaxy = cl_galaxy_file[:500]\n"
   ]
  },
  {
   "cell_type": "code",
   "execution_count": null,
   "metadata": {},
   "outputs": [],
   "source": [
    "plt.loglog(l,cl)\n",
    "plt.loglog(l, cl_galaxy)"
   ]
  },
  {
   "cell_type": "code",
   "execution_count": null,
   "metadata": {},
   "outputs": [],
   "source": [
    "density_g = density_cl(cl_galaxy, NSIDE, 42)\n",
    "density_g = np.exp(density_g) - 1.0\n",
    "density_nu = density_cl(cl_galaxy * 1.3, NSIDE, 42)\n",
    "density_nu = np.exp(density_nu) - 1.0\n",
    "hp.mollview(density_g)\n",
    "hp.mollview(density_nu)"
   ]
  },
  {
   "cell_type": "code",
   "execution_count": null,
   "metadata": {},
   "outputs": [],
   "source": [
    "N_g = 2000000\n",
    "N_nu = 2000\n",
    "events_map_g = poisson_sampling(density_g, N_g)\n",
    "events_map_nu = poisson_sampling(density_nu, N_nu)\n",
    "hp.mollview(events_map_g)\n",
    "hp.mollview(events_map_nu)"
   ]
  },
  {
   "cell_type": "code",
   "execution_count": null,
   "metadata": {},
   "outputs": [],
   "source": [
    "overdensityMap_g = overdensityMap(events_map_g)\n",
    "overdensityMap_nu = overdensityMap(events_map_nu)\n",
    "\n",
    "l_cl = np.arange(1,3*NSIDE +1)\n",
    "cl_g = hp.sphtfunc.anafast(overdensityMap_g)\n",
    "cl_nu = hp.sphtfunc.anafast(overdensityMap_nu)\n",
    "w_cross = hp.sphtfunc.anafast(overdensityMap_g, overdensityMap_nu)"
   ]
  },
  {
   "cell_type": "code",
   "execution_count": null,
   "metadata": {},
   "outputs": [],
   "source": [
    "plt.plot(l,cl_galaxy)\n",
    "plt.plot(l_cl[1:],cl_g[1:], label='g')\n",
    "plt.plot(l_cl[1:],cl_nu[1:],label='nu')\n",
    "plt.plot(l_cl[1:],np.abs(w_cross[1:]), label='cross')\n",
    "\n",
    "plt.xscale('log')\n",
    "plt.yscale('log')\n",
    "plt.legend()"
   ]
  },
  {
   "cell_type": "code",
   "execution_count": null,
   "metadata": {},
   "outputs": [],
   "source": [
    "w_std = w_cross_IsotripicMaps_std(cl_isotropic, NSIDE, N_nu, overdensityMap_g)\n",
    "chi_square = np.sum(w_cross[1:]**2 / w_std[1:]**2)\n",
    "print significance(chi_square, len(w_cross[1:]))"
   ]
  },
  {
   "cell_type": "code",
   "execution_count": null,
   "metadata": {},
   "outputs": [],
   "source": []
  }
 ],
 "metadata": {
  "kernelspec": {
   "display_name": "Python 3",
   "language": "python",
   "name": "python3"
  },
  "language_info": {
   "codemirror_mode": {
    "name": "ipython",
    "version": 3
   },
   "file_extension": ".py",
   "mimetype": "text/x-python",
   "name": "python",
   "nbconvert_exporter": "python",
   "pygments_lexer": "ipython3",
   "version": "3.7.2"
  }
 },
 "nbformat": 4,
 "nbformat_minor": 2
}
