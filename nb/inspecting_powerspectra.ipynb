{
 "cells": [
  {
   "cell_type": "markdown",
   "metadata": {},
   "source": [
    "# Inspecting power spectra\n",
    "\n",
    "We describe how to load, display, and interpret the Planck CIB auto and cross power spectra from Lenz, Doré, Lagache (2019)."
   ]
  },
  {
   "cell_type": "code",
   "execution_count": 1,
   "metadata": {},
   "outputs": [],
   "source": [
    "# %load /Users/dlenz/.jupyter/startup.py\n",
    "# Standard magic commands\n",
    "%load_ext autoreload\n",
    "%autoreload 2\n",
    "%matplotlib inline\n",
    "%config InlineBackend.figure_format = 'retina'\n",
    "\n",
    "from pathlib import Path\n",
    "import warnings\n",
    "warnings.filterwarnings('ignore')\n",
    "\n",
    "import healpy as hp\n",
    "import pandas as pd\n",
    "import numpy as np\n",
    "import matplotlib.pyplot as plt"
   ]
  },
  {
   "cell_type": "code",
   "execution_count": 2,
   "metadata": {},
   "outputs": [],
   "source": [
    "# Adjust this as needed\n",
    "datapath = Path('../dataverse_files')"
   ]
  },
  {
   "cell_type": "markdown",
   "metadata": {},
   "source": [
    "# CIB auto power spectra"
   ]
  },
  {
   "cell_type": "markdown",
   "metadata": {},
   "source": [
    "We used [pandas](https://pandas.pydata.org/) to create the DataFrame objects and save the information to disk. Consequently, it is easiest to also read them that way."
   ]
  },
  {
   "cell_type": "code",
   "execution_count": 3,
   "metadata": {},
   "outputs": [],
   "source": [
    "df_cib_auto = pd.read_csv(datapath.joinpath('Cl_CIB_T1T2.csv'), comment='#')"
   ]
  },
  {
   "cell_type": "markdown",
   "metadata": {},
   "source": [
    "The DataFrame contains the binned power spectra for all frequency combinations, as well as the bin centers. The binning scheme is linear in $\\ell$, with 64 $\\ell$ modes per bin."
   ]
  },
  {
   "cell_type": "code",
   "execution_count": 4,
   "metadata": {},
   "outputs": [
    {
     "data": {
      "text/html": [
       "<div>\n",
       "<style scoped>\n",
       "    .dataframe tbody tr th:only-of-type {\n",
       "        vertical-align: middle;\n",
       "    }\n",
       "\n",
       "    .dataframe tbody tr th {\n",
       "        vertical-align: top;\n",
       "    }\n",
       "\n",
       "    .dataframe thead th {\n",
       "        text-align: right;\n",
       "    }\n",
       "</style>\n",
       "<table border=\"1\" class=\"dataframe\">\n",
       "  <thead>\n",
       "    <tr style=\"text-align: right;\">\n",
       "      <th></th>\n",
       "      <th>ell</th>\n",
       "      <th>353x545</th>\n",
       "      <th>353x857</th>\n",
       "      <th>545x857</th>\n",
       "      <th>353x353</th>\n",
       "      <th>545x545</th>\n",
       "      <th>857x857</th>\n",
       "      <th>d353x545</th>\n",
       "      <th>d353x857</th>\n",
       "      <th>d545x857</th>\n",
       "      <th>d353x353</th>\n",
       "      <th>d545x545</th>\n",
       "      <th>d857x857</th>\n",
       "    </tr>\n",
       "  </thead>\n",
       "  <tbody>\n",
       "    <tr>\n",
       "      <th>0</th>\n",
       "      <td>33.5</td>\n",
       "      <td>24888.152064</td>\n",
       "      <td>47794.247983</td>\n",
       "      <td>168033.328798</td>\n",
       "      <td>8753.191022</td>\n",
       "      <td>79173.416984</td>\n",
       "      <td>431070.374969</td>\n",
       "      <td>2673.274062</td>\n",
       "      <td>5685.932582</td>\n",
       "      <td>16427.348687</td>\n",
       "      <td>949.114359</td>\n",
       "      <td>7630.658933</td>\n",
       "      <td>36349.160890</td>\n",
       "    </tr>\n",
       "    <tr>\n",
       "      <th>1</th>\n",
       "      <td>97.5</td>\n",
       "      <td>31759.790163</td>\n",
       "      <td>61502.011204</td>\n",
       "      <td>192169.517581</td>\n",
       "      <td>11253.026109</td>\n",
       "      <td>94297.570883</td>\n",
       "      <td>442313.488813</td>\n",
       "      <td>1436.195351</td>\n",
       "      <td>2840.040707</td>\n",
       "      <td>8023.579074</td>\n",
       "      <td>522.223864</td>\n",
       "      <td>4001.008780</td>\n",
       "      <td>16460.784270</td>\n",
       "    </tr>\n",
       "    <tr>\n",
       "      <th>2</th>\n",
       "      <td>161.5</td>\n",
       "      <td>21360.538992</td>\n",
       "      <td>40523.492931</td>\n",
       "      <td>122037.794903</td>\n",
       "      <td>7538.280544</td>\n",
       "      <td>62011.390371</td>\n",
       "      <td>264039.812655</td>\n",
       "      <td>723.402563</td>\n",
       "      <td>1406.376460</td>\n",
       "      <td>3918.025970</td>\n",
       "      <td>267.344915</td>\n",
       "      <td>1985.911947</td>\n",
       "      <td>7913.212630</td>\n",
       "    </tr>\n",
       "    <tr>\n",
       "      <th>3</th>\n",
       "      <td>225.5</td>\n",
       "      <td>16275.187344</td>\n",
       "      <td>29832.040114</td>\n",
       "      <td>90353.017550</td>\n",
       "      <td>5810.410435</td>\n",
       "      <td>47372.669763</td>\n",
       "      <td>188148.811770</td>\n",
       "      <td>447.365647</td>\n",
       "      <td>858.970951</td>\n",
       "      <td>2367.468079</td>\n",
       "      <td>167.066261</td>\n",
       "      <td>1215.595573</td>\n",
       "      <td>4718.780889</td>\n",
       "    </tr>\n",
       "    <tr>\n",
       "      <th>4</th>\n",
       "      <td>289.5</td>\n",
       "      <td>12706.982042</td>\n",
       "      <td>22605.805409</td>\n",
       "      <td>66722.570005</td>\n",
       "      <td>4602.249479</td>\n",
       "      <td>36103.003912</td>\n",
       "      <td>135938.035389</td>\n",
       "      <td>296.838809</td>\n",
       "      <td>560.952082</td>\n",
       "      <td>1522.268657</td>\n",
       "      <td>112.743142</td>\n",
       "      <td>793.879764</td>\n",
       "      <td>2991.806986</td>\n",
       "    </tr>\n",
       "  </tbody>\n",
       "</table>\n",
       "</div>"
      ],
      "text/plain": [
       "     ell       353x545       353x857        545x857       353x353  \\\n",
       "0   33.5  24888.152064  47794.247983  168033.328798   8753.191022   \n",
       "1   97.5  31759.790163  61502.011204  192169.517581  11253.026109   \n",
       "2  161.5  21360.538992  40523.492931  122037.794903   7538.280544   \n",
       "3  225.5  16275.187344  29832.040114   90353.017550   5810.410435   \n",
       "4  289.5  12706.982042  22605.805409   66722.570005   4602.249479   \n",
       "\n",
       "        545x545        857x857     d353x545     d353x857      d545x857  \\\n",
       "0  79173.416984  431070.374969  2673.274062  5685.932582  16427.348687   \n",
       "1  94297.570883  442313.488813  1436.195351  2840.040707   8023.579074   \n",
       "2  62011.390371  264039.812655   723.402563  1406.376460   3918.025970   \n",
       "3  47372.669763  188148.811770   447.365647   858.970951   2367.468079   \n",
       "4  36103.003912  135938.035389   296.838809   560.952082   1522.268657   \n",
       "\n",
       "     d353x353     d545x545      d857x857  \n",
       "0  949.114359  7630.658933  36349.160890  \n",
       "1  522.223864  4001.008780  16460.784270  \n",
       "2  267.344915  1985.911947   7913.212630  \n",
       "3  167.066261  1215.595573   4718.780889  \n",
       "4  112.743142   793.879764   2991.806986  "
      ]
     },
     "execution_count": 4,
     "metadata": {},
     "output_type": "execute_result"
    }
   ],
   "source": [
    "df_cib_auto.head(5)"
   ]
  },
  {
   "cell_type": "code",
   "execution_count": 5,
   "metadata": {},
   "outputs": [
    {
     "data": {
      "text/plain": [
       "Text(0.5, 1.0, '353 x 545')"
      ]
     },
     "execution_count": 5,
     "metadata": {},
     "output_type": "execute_result"
    },
    {
     "data": {
      "image/png": "[encoded data removed]",
      "text/plain": [
       "<Figure size 432x288 with 1 Axes>"
      ]
     },
     "metadata": {
      "image/png": {
       "height": 277,
       "width": 410
      },
      "needs_background": "light"
     },
     "output_type": "display_data"
    }
   ],
   "source": [
    "plt.errorbar(\n",
    "    df_cib_auto['ell'],\n",
    "    df_cib_auto['353x545'],\n",
    "    yerr=df_cib_auto['d353x545'],\n",
    "    ls=\"None\",\n",
    "    capsize=4)\n",
    "# plt.semilogy()\n",
    "plt.grid()\n",
    "\n",
    "plt.xlabel(r'$\\ell$')\n",
    "plt.ylabel(r'$C_\\ell\\ [\\rm Jy^2/sr]$')\n",
    "plt.title('353 x 545')"
   ]
  },
  {
   "cell_type": "markdown",
   "metadata": {},
   "source": [
    "# CIB x CMB lensing"
   ]
  },
  {
   "cell_type": "markdown",
   "metadata": {},
   "source": [
    "The cross power spectrum of the CIB and the CMB lensing is available for all sky cuts, and contains the bin centers, the binned $C_{\\ell$, and the respective error terms. Units are Jy."
   ]
  },
  {
   "cell_type": "code",
   "execution_count": 7,
   "metadata": {},
   "outputs": [],
   "source": [
    "df_cibXkappa = pd.read_csv(\n",
    "    datapath.joinpath('545/2.5e+20_gp20/CIBxKappa_powerspectra.csv'), comment='#')"
   ]
  },
  {
   "cell_type": "code",
   "execution_count": 8,
   "metadata": {},
   "outputs": [
    {
     "data": {
      "text/html": [
       "<div>\n",
       "<style scoped>\n",
       "    .dataframe tbody tr th:only-of-type {\n",
       "        vertical-align: middle;\n",
       "    }\n",
       "\n",
       "    .dataframe tbody tr th {\n",
       "        vertical-align: top;\n",
       "    }\n",
       "\n",
       "    .dataframe thead th {\n",
       "        text-align: right;\n",
       "    }\n",
       "</style>\n",
       "<table border=\"1\" class=\"dataframe\">\n",
       "  <thead>\n",
       "    <tr style=\"text-align: right;\">\n",
       "      <th></th>\n",
       "      <th>ell</th>\n",
       "      <th>Cl</th>\n",
       "      <th>dCl</th>\n",
       "    </tr>\n",
       "  </thead>\n",
       "  <tbody>\n",
       "    <tr>\n",
       "      <th>0</th>\n",
       "      <td>33.5</td>\n",
       "      <td>0.028025</td>\n",
       "      <td>0.012653</td>\n",
       "    </tr>\n",
       "    <tr>\n",
       "      <th>1</th>\n",
       "      <td>97.5</td>\n",
       "      <td>0.083314</td>\n",
       "      <td>0.006103</td>\n",
       "    </tr>\n",
       "    <tr>\n",
       "      <th>2</th>\n",
       "      <td>161.5</td>\n",
       "      <td>0.056417</td>\n",
       "      <td>0.003684</td>\n",
       "    </tr>\n",
       "    <tr>\n",
       "      <th>3</th>\n",
       "      <td>225.5</td>\n",
       "      <td>0.043002</td>\n",
       "      <td>0.002830</td>\n",
       "    </tr>\n",
       "    <tr>\n",
       "      <th>4</th>\n",
       "      <td>289.5</td>\n",
       "      <td>0.036609</td>\n",
       "      <td>0.002332</td>\n",
       "    </tr>\n",
       "  </tbody>\n",
       "</table>\n",
       "</div>"
      ],
      "text/plain": [
       "     ell        Cl       dCl\n",
       "0   33.5  0.028025  0.012653\n",
       "1   97.5  0.083314  0.006103\n",
       "2  161.5  0.056417  0.003684\n",
       "3  225.5  0.043002  0.002830\n",
       "4  289.5  0.036609  0.002332"
      ]
     },
     "execution_count": 8,
     "metadata": {},
     "output_type": "execute_result"
    }
   ],
   "source": [
    "df_cibXkappa.head()"
   ]
  },
  {
   "cell_type": "code",
   "execution_count": 9,
   "metadata": {},
   "outputs": [
    {
     "data": {
      "text/plain": [
       "Text(0.5, 1.0, 'CIB x CMB lensing')"
      ]
     },
     "execution_count": 9,
     "metadata": {},
     "output_type": "execute_result"
    },
    {
     "data": {
      "image/png": "[encoded data removed]",
      "text/plain": [
       "<Figure size 432x288 with 1 Axes>"
      ]
     },
     "metadata": {
      "image/png": {
       "height": 277,
       "width": 391
      },
      "needs_background": "light"
     },
     "output_type": "display_data"
    }
   ],
   "source": [
    "freqs = ['545']\n",
    "\n",
    "for freq in freqs:\n",
    "    df = pd.read_csv(\n",
    "        datapath.joinpath(f'{freq}/2.5e+20_gp20/CIBxKappa_powerspectra.csv'), comment='#')\n",
    "    \n",
    "    plt.errorbar(\n",
    "        df['ell'],\n",
    "        df['ell']*df['Cl'],\n",
    "        yerr=df['ell']*df['dCl'],\n",
    "        linestyle='None',\n",
    "        capsize=4,\n",
    "        label=f\"{freq} GHz\",\n",
    "    )\n",
    "    plt.legend()\n",
    "    \n",
    "plt.xlabel(r'$\\ell$')\n",
    "plt.ylabel(r'$C_\\ell^{T\\kappa}\\ [\\rm Jy]$')\n",
    "plt.title('CIB x CMB lensing')"
   ]
  },
  {
   "cell_type": "code",
   "execution_count": null,
   "metadata": {},
   "outputs": [],
   "source": []
  }
 ],
 "metadata": {
  "kernelspec": {
   "display_name": "Python 3",
   "language": "python",
   "name": "python3"
  },
  "language_info": {
   "codemirror_mode": {
    "name": "ipython",
    "version": 3
   },
   "file_extension": ".py",
   "mimetype": "text/x-python",
   "name": "python",
   "nbconvert_exporter": "python",
   "pygments_lexer": "ipython3",
   "version": "3.7.3"
  }
 },
 "nbformat": 4,
 "nbformat_minor": 2
}
