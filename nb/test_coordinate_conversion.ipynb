{
 "cells": [
  {
   "cell_type": "code",
   "execution_count": 1,
   "metadata": {},
   "outputs": [],
   "source": [
    "%matplotlib inline\n",
    "import healpy as hp\n",
    "import numpy as np\n",
    "import matplotlib.pyplot as plt\n",
    "import os"
   ]
  },
  {
   "cell_type": "code",
   "execution_count": 4,
   "metadata": {},
   "outputs": [
    {
     "name": "stdout",
     "output_type": "stream",
     "text": [
      "ra= 231.01069237717115 dec= 52.39361602904334\n"
     ]
    }
   ],
   "source": [
    "ipix = 20700\n",
    "rtest = hp.rotator.Rotator(coord=['G','C']) \n",
    "theta_gal, phi_gal = hp.pixelfunc.pix2ang(nside=128, ipix=ipix)\n",
    "theta_eq, phi_eq = rtest(theta_gal, phi_gal)\n",
    "if phi_eq < 0:\n",
    "    phi_eq = phi_eq + 2 * np.pi\n",
    "print ('ra=', np.degrees(phi_eq), 'dec=', np.degrees(np.pi/2 - theta_eq))\n"
   ]
  },
  {
   "cell_type": "code",
   "execution_count": 5,
   "metadata": {},
   "outputs": [
    {
     "name": "stdout",
     "output_type": "stream",
     "text": [
      "l, b= (85.14706, 52.029728)\n",
      "ra, dec= (231.01025, 52.39326)\n"
     ]
    }
   ],
   "source": [
    "from astropy.io import fits\n",
    "from astropy import units as u\n",
    "\n",
    "conversion_p2g = fits.open('/Users/kefang/Desktop/pixel_coords_map_ring_galactic_res7.fits')\n",
    "print ('l, b=', conversion_p2g[1].data[ipix])\n",
    "\n",
    "conversion_p2c = fits.open('/Users/kefang/Desktop/pixel_coords_map_ring_celestial_res7.fits')\n",
    "print ('ra, dec=', conversion_p2c[1].data[ipix])\n",
    "\n",
    "#print (conversion_p2g[1].columns, conversion_p2c[1].columns)\n",
    "#c = SkyCoord(ra=218.64241 * u.degree, dec=42.90237 * u.degree)\n",
    "#print (c.galactic)"
   ]
  },
  {
   "cell_type": "code",
   "execution_count": 6,
   "metadata": {},
   "outputs": [
    {
     "data": {
      "text/plain": [
       "[<matplotlib.lines.Line2D at 0x12eddb860>]"
      ]
     },
     "execution_count": 6,
     "metadata": {},
     "output_type": "execute_result"
    },
    {
     "data": {
      "image/png": "[encoded data removed]",
      "text/plain": [
       "<Figure size 432x288 with 1 Axes>"
      ]
     },
     "metadata": {
      "needs_background": "light"
     },
     "output_type": "display_data"
    }
   ],
   "source": [
    "test=np.ones(hp.nside2npix(128))\n",
    "plt.plot(np.arange(3*128), hp.anafast(test))\n",
    "# hp.anafast returns Cl from 0 to 3 * nside - 1"
   ]
  },
  {
   "cell_type": "code",
   "execution_count": null,
   "metadata": {},
   "outputs": [],
   "source": []
  }
 ],
 "metadata": {
  "kernelspec": {
   "display_name": "Python 3",
   "language": "python",
   "name": "python3"
  },
  "language_info": {
   "codemirror_mode": {
    "name": "ipython",
    "version": 3
   },
   "file_extension": ".py",
   "mimetype": "text/x-python",
   "name": "python",
   "nbconvert_exporter": "python",
   "pygments_lexer": "ipython3",
   "version": "3.7.0"
  }
 },
 "nbformat": 4,
 "nbformat_minor": 2
}
