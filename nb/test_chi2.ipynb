{
 "cells": [
  {
   "cell_type": "code",
   "execution_count": 1,
   "metadata": {},
   "outputs": [],
   "source": [
    "import numpy as np\n",
    "import matplotlib.pyplot as plt\n",
    "%matplotlib inline\n",
    "import healpy as hp\n",
    "from scipy.optimize import minimize\n",
    "from scipy import stats\n"
   ]
  },
  {
   "cell_type": "code",
   "execution_count": 27,
   "metadata": {},
   "outputs": [],
   "source": [
    "NSIDE = 128\n",
    "NPIXEL = hp.pixelfunc.nside2npix(NSIDE)\n",
    "Ncount = 100000 # 3yr event in bin 0 and 1\n",
    "\n",
    "analy_galaxymap_path = '../data/ancil/analy_galaxymap.fits'\n",
    "analy_galaxymap = hp.fitsfunc.read_map(analy_galaxymap_path, verbose=False)\n",
    "overdensity_g = analy_galaxymap / np.mean(analy_galaxymap) - 1. \n",
    "analy_CL = hp.sphtfunc.anafast(overdensity_g)"
   ]
  },
  {
   "cell_type": "code",
   "execution_count": 28,
   "metadata": {},
   "outputs": [],
   "source": [
    "def w_std(N_re):\n",
    "    w_cross = np.zeros((N_re, 3 * NSIDE))\n",
    "    for iteration in np.arange(N_re):\n",
    "        total_counts = np.random.poisson(Ncount)\n",
    "        countsmap = np.random.poisson(total_counts / float(NPIXEL), NPIXEL)\n",
    "        overdensity_nu = countsmap / np.mean(countsmap) - 1. \n",
    "        w_cross[iteration] = hp.sphtfunc.anafast(overdensity_g, overdensity_nu)\n",
    "    return np.mean(w_cross, axis=0), np.std(w_cross, axis=0)\n",
    "\n",
    "w_mean, w_model_std = w_std(100)\n"
   ]
  },
  {
   "cell_type": "code",
   "execution_count": 29,
   "metadata": {},
   "outputs": [],
   "source": [
    "def log_likelihood(f, w_data): \n",
    "    w_model_mean = f * analy_CL\n",
    "    lnL_le = - (w_data - w_model_mean) ** 2 / (2 * w_model_std ** 2)\n",
    "    return np.sum(lnL_le) \n"
   ]
  },
  {
   "cell_type": "code",
   "execution_count": 30,
   "metadata": {},
   "outputs": [],
   "source": [
    "def minimize__lnL(w_data):\n",
    "    nll = lambda *args: -log_likelihood(*args)\n",
    "    initial = 0.1 \n",
    "    soln = minimize(nll, initial, args=(w_data), bounds=[(-1, 1)]) \n",
    "    return soln.x, (log_likelihood(soln.x, w_data) - log_likelihood(0., w_data)) * 2\n"
   ]
  },
  {
   "cell_type": "code",
   "execution_count": 31,
   "metadata": {},
   "outputs": [],
   "source": [
    "def TS_distribution(N_test):\n",
    "    TS = np.zeros(N_test)\n",
    "    for i in range(N_test):\n",
    "        total_counts = np.random.poisson(Ncount)\n",
    "        countsmap = np.random.poisson(total_counts / float(NPIXEL), NPIXEL)\n",
    "        overdensity_nu = countsmap / np.mean(countsmap) - 1. \n",
    "        #hp.mollview(overdensity_nu)\n",
    "        w_data = hp.sphtfunc.anafast(overdensity_g, overdensity_nu)\n",
    "        TS[i] = (minimize__lnL(w_data))[-1]\n",
    "        \n",
    "    return TS"
   ]
  },
  {
   "cell_type": "code",
   "execution_count": 32,
   "metadata": {},
   "outputs": [],
   "source": [
    "N_test = 10000\n",
    "TS_atm = TS_distribution(N_test)\n"
   ]
  },
  {
   "cell_type": "code",
   "execution_count": 47,
   "metadata": {},
   "outputs": [
    {
     "data": {
      "text/plain": [
       "(0.0001, 1.1)"
      ]
     },
     "execution_count": 47,
     "metadata": {},
     "output_type": "execute_result"
    },
    {
     "data": {
      "image/png": "[encoded data removed]",
      "text/plain": [
       "<Figure size 432x288 with 1 Axes>"
      ]
     },
     "metadata": {
      "needs_background": "light"
     },
     "output_type": "display_data"
    }
   ],
   "source": [
    "TS_bins = np.linspace(0, 20, 1001)\n",
    "TS_bins_c = (TS_bins[0:-1] + TS_bins[1:]) / 2.\n",
    "dTS_bins = np.mean(TS_bins[1:] - TS_bins[0:-1])\n",
    "p_atm = np.histogram(TS_atm, TS_bins)[0] / float(N_test) / dTS_bins\n",
    "plt.plot(TS_bins_c, p_atm, lw=2, label='atm')\n",
    "plt.plot(TS_bins_c, stats.chi2.pdf(TS_bins_c, 1)   , lw=2, label='chi2, dof=1')\n",
    "plt.yscale('log')\n",
    "plt.ylim(1e-4, 1.1)\n",
    "\n",
    "\n",
    "\n"
   ]
  },
  {
   "cell_type": "code",
   "execution_count": null,
   "metadata": {},
   "outputs": [],
   "source": []
  }
 ],
 "metadata": {
  "kernelspec": {
   "display_name": "Python 2",
   "language": "python",
   "name": "python2"
  },
  "language_info": {
   "codemirror_mode": {
    "name": "ipython",
    "version": 2
   },
   "file_extension": ".py",
   "mimetype": "text/x-python",
   "name": "python",
   "nbconvert_exporter": "python",
   "pygments_lexer": "ipython2",
   "version": "2.7.15"
  }
 },
 "nbformat": 4,
 "nbformat_minor": 2
}
