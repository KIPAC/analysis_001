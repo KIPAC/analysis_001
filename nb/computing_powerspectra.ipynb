{
 "cells": [
  {
   "cell_type": "markdown",
   "metadata": {},
   "source": [
    "# Computing power spectra\n",
    "\n",
    "We demonstrate how to calculate angular power spectra, based on the data provided in Lenz, Doré, Lagache (2019)."
   ]
  },
  {
   "cell_type": "code",
   "execution_count": 1,
   "metadata": {},
   "outputs": [],
   "source": [
    "# %load /Users/dlenz/.jupyter/startup.py\n",
    "# Standard magic commands\n",
    "%load_ext autoreload\n",
    "%autoreload 2\n",
    "%matplotlib inline\n",
    "%config InlineBackend.figure_format = 'retina'\n",
    "\n",
    "from pathlib import Path\n",
    "import warnings\n",
    "warnings.filterwarnings('ignore')\n",
    "\n",
    "import healpy as hp\n",
    "import pandas as pd\n",
    "import numpy as np\n",
    "import matplotlib.pyplot as plt"
   ]
  },
  {
   "cell_type": "code",
   "execution_count": 2,
   "metadata": {},
   "outputs": [],
   "source": [
    "# Adjust this as needed\n",
    "datapath = Path('../dataverse_files')"
   ]
  },
  {
   "cell_type": "markdown",
   "metadata": {},
   "source": [
    "# Load data"
   ]
  },
  {
   "cell_type": "code",
   "execution_count": 3,
   "metadata": {},
   "outputs": [],
   "source": [
    "freq = '545'"
   ]
  },
  {
   "cell_type": "markdown",
   "metadata": {},
   "source": [
    "CIB maps, directly converted from MJy/sr to Jy/sr"
   ]
  },
  {
   "cell_type": "code",
   "execution_count": 4,
   "metadata": {},
   "outputs": [],
   "source": [
    "oddring = hp.read_map(\n",
    "    datapath.joinpath(f'{freq}/2.5e+20_gp20/cib_oddring.hpx.fits').as_posix(),\n",
    "    verbose=False) * 1.e6\n",
    "\n",
    "evenring = hp.read_map(\n",
    "    datapath.joinpath(f'{freq}/2.5e+20_gp20/cib_evenring.hpx.fits').as_posix(),\n",
    "    verbose=False) * 1.e6"
   ]
  },
  {
   "cell_type": "markdown",
   "metadata": {},
   "source": [
    "Masks"
   ]
  },
  {
   "cell_type": "code",
   "execution_count": 5,
   "metadata": {},
   "outputs": [],
   "source": [
    "mask_bool = hp.read_map(\n",
    "    datapath.joinpath(f'{freq}/2.5e+20_gp20/mask_bool.hpx.fits').as_posix(),\n",
    "    verbose=False,\n",
    "    dtype=bool)\n",
    "\n",
    "mask_apod = hp.read_map(\n",
    "    datapath.joinpath(f'{freq}/2.5e+20_gp20/mask_apod.hpx.fits').as_posix(),\n",
    "    verbose=False,\n",
    ")"
   ]
  },
  {
   "cell_type": "markdown",
   "metadata": {},
   "source": [
    "Window functions"
   ]
  },
  {
   "cell_type": "code",
   "execution_count": 6,
   "metadata": {},
   "outputs": [],
   "source": [
    "windowfuncs = pd.read_csv(\n",
    "    datapath.joinpath(f'{freq}/2.5e+20_gp20/windowfunctions.csv'),\n",
    "    comment='#')"
   ]
  },
  {
   "cell_type": "code",
   "execution_count": 7,
   "metadata": {},
   "outputs": [
    {
     "data": {
      "text/html": [
       "<div>\n",
       "<style scoped>\n",
       "    .dataframe tbody tr th:only-of-type {\n",
       "        vertical-align: middle;\n",
       "    }\n",
       "\n",
       "    .dataframe tbody tr th {\n",
       "        vertical-align: top;\n",
       "    }\n",
       "\n",
       "    .dataframe thead th {\n",
       "        text-align: right;\n",
       "    }\n",
       "</style>\n",
       "<table border=\"1\" class=\"dataframe\">\n",
       "  <thead>\n",
       "    <tr style=\"text-align: right;\">\n",
       "      <th></th>\n",
       "      <th>ell</th>\n",
       "      <th>pixfunc</th>\n",
       "      <th>Bl_16arcmin</th>\n",
       "      <th>Wl_16arcmin</th>\n",
       "      <th>Bl_kernel</th>\n",
       "      <th>Wl_kernel</th>\n",
       "      <th>Bl_native</th>\n",
       "      <th>Wl_native</th>\n",
       "      <th>Bl_eff</th>\n",
       "      <th>Wl_eff</th>\n",
       "      <th>Wl_kappa</th>\n",
       "    </tr>\n",
       "  </thead>\n",
       "  <tbody>\n",
       "    <tr>\n",
       "      <th>0</th>\n",
       "      <td>0</td>\n",
       "      <td>1.0</td>\n",
       "      <td>1.000000</td>\n",
       "      <td>1.000000</td>\n",
       "      <td>1.000000</td>\n",
       "      <td>1.000000</td>\n",
       "      <td>1.000000</td>\n",
       "      <td>1.000000</td>\n",
       "      <td>1.0</td>\n",
       "      <td>1.0</td>\n",
       "      <td>1.0</td>\n",
       "    </tr>\n",
       "    <tr>\n",
       "      <th>1</th>\n",
       "      <td>1</td>\n",
       "      <td>1.0</td>\n",
       "      <td>0.999996</td>\n",
       "      <td>0.999996</td>\n",
       "      <td>1.000001</td>\n",
       "      <td>1.000001</td>\n",
       "      <td>0.999999</td>\n",
       "      <td>0.999999</td>\n",
       "      <td>1.0</td>\n",
       "      <td>1.0</td>\n",
       "      <td>1.0</td>\n",
       "    </tr>\n",
       "    <tr>\n",
       "      <th>2</th>\n",
       "      <td>2</td>\n",
       "      <td>1.0</td>\n",
       "      <td>0.999988</td>\n",
       "      <td>0.999988</td>\n",
       "      <td>1.000002</td>\n",
       "      <td>1.000002</td>\n",
       "      <td>0.999998</td>\n",
       "      <td>0.999998</td>\n",
       "      <td>1.0</td>\n",
       "      <td>1.0</td>\n",
       "      <td>1.0</td>\n",
       "    </tr>\n",
       "    <tr>\n",
       "      <th>3</th>\n",
       "      <td>3</td>\n",
       "      <td>1.0</td>\n",
       "      <td>0.999976</td>\n",
       "      <td>0.999976</td>\n",
       "      <td>1.000005</td>\n",
       "      <td>1.000005</td>\n",
       "      <td>0.999995</td>\n",
       "      <td>0.999995</td>\n",
       "      <td>1.0</td>\n",
       "      <td>1.0</td>\n",
       "      <td>1.0</td>\n",
       "    </tr>\n",
       "    <tr>\n",
       "      <th>4</th>\n",
       "      <td>4</td>\n",
       "      <td>1.0</td>\n",
       "      <td>0.999960</td>\n",
       "      <td>0.999960</td>\n",
       "      <td>1.000008</td>\n",
       "      <td>1.000008</td>\n",
       "      <td>0.999992</td>\n",
       "      <td>0.999992</td>\n",
       "      <td>1.0</td>\n",
       "      <td>1.0</td>\n",
       "      <td>1.0</td>\n",
       "    </tr>\n",
       "  </tbody>\n",
       "</table>\n",
       "</div>"
      ],
      "text/plain": [
       "   ell  pixfunc  Bl_16arcmin  Wl_16arcmin  Bl_kernel  Wl_kernel  Bl_native  \\\n",
       "0    0      1.0     1.000000     1.000000   1.000000   1.000000   1.000000   \n",
       "1    1      1.0     0.999996     0.999996   1.000001   1.000001   0.999999   \n",
       "2    2      1.0     0.999988     0.999988   1.000002   1.000002   0.999998   \n",
       "3    3      1.0     0.999976     0.999976   1.000005   1.000005   0.999995   \n",
       "4    4      1.0     0.999960     0.999960   1.000008   1.000008   0.999992   \n",
       "\n",
       "   Wl_native  Bl_eff  Wl_eff  Wl_kappa  \n",
       "0   1.000000     1.0     1.0       1.0  \n",
       "1   0.999999     1.0     1.0       1.0  \n",
       "2   0.999998     1.0     1.0       1.0  \n",
       "3   0.999995     1.0     1.0       1.0  \n",
       "4   0.999992     1.0     1.0       1.0  "
      ]
     },
     "execution_count": 7,
     "metadata": {},
     "output_type": "execute_result"
    }
   ],
   "source": [
    "windowfuncs.head()"
   ]
  },
  {
   "cell_type": "markdown",
   "metadata": {},
   "source": [
    "The windowfunctions contain several columns that are useful in working with the data. In general, we use $B_{\\ell}$ to indicate beam functions, and $W_{\\ell}$ to indicate the product of beam function and HEALPix pixel window function.\n",
    "\n",
    "For the purpose here, we require the effective window function $W_{\\ell}^{\\rm eff}$."
   ]
  },
  {
   "cell_type": "markdown",
   "metadata": {},
   "source": [
    "We also load the reference power spectrum to compare our results against. This servers as a consistency check, and will also show us discrepancies that result from ignoring the mode coupling matrix $\\mathcal{M}_{\\ell\\ell'}$."
   ]
  },
  {
   "cell_type": "code",
   "execution_count": 8,
   "metadata": {},
   "outputs": [],
   "source": [
    "df_cib_auto = pd.read_csv(datapath.joinpath('Cl_CIB_T1T2.csv'), comment='#')"
   ]
  },
  {
   "cell_type": "markdown",
   "metadata": {},
   "source": [
    "# Calculate the power spectrum"
   ]
  },
  {
   "cell_type": "code",
   "execution_count": 9,
   "metadata": {},
   "outputs": [],
   "source": [
    "lmax = 1024\n",
    "ell = np.arange(lmax)\n",
    "\n",
    "fsky = mask_bool.sum()/mask_bool.size"
   ]
  },
  {
   "cell_type": "code",
   "execution_count": 13,
   "metadata": {},
   "outputs": [],
   "source": [
    "cl = hp.anafast(\n",
    "    map1=np.where(mask_bool, oddring, 0.) * mask_apod,\n",
    "    map2=np.where(mask_bool, evenring, 0.) * mask_apod,\n",
    "    lmax=lmax-1)"
   ]
  },
  {
   "cell_type": "code",
   "execution_count": 14,
   "metadata": {},
   "outputs": [],
   "source": [
    "cl2 = hp.anafast(\n",
    "    map1=np.where(mask_bool, oddring, 0.) * mask_apod,\n",
    "    lmax=lmax-1)"
   ]
  },
  {
   "cell_type": "markdown",
   "metadata": {},
   "source": [
    "Lastly, we need to correct the power spectrum for the sky cut and for the effective window function."
   ]
  },
  {
   "cell_type": "code",
   "execution_count": 15,
   "metadata": {},
   "outputs": [
    {
     "name": "stdout",
     "output_type": "stream",
     "text": [
      "[30084.0124492  11476.11824241 15395.01168975 ...   871.11573572\n",
      "   829.91643925   818.88342349] [36013.64959879 12786.28866839 16738.55496978 ...  1011.49521361\n",
      "   955.5575931    955.44104098]\n"
     ]
    }
   ],
   "source": [
    "print (cl, cl2)"
   ]
  },
  {
   "cell_type": "code",
   "execution_count": 11,
   "metadata": {},
   "outputs": [],
   "source": [
    "cl = cl / fsky / windowfuncs['Wl_eff'][:lmax]**2"
   ]
  },
  {
   "cell_type": "code",
   "execution_count": 12,
   "metadata": {},
   "outputs": [
    {
     "data": {
      "text/plain": [
       "Text(0, 0.5, '$C_{\\\\ell}^{TT}\\\\ [\\\\rm Jy^2/sr]$')"
      ]
     },
     "execution_count": 12,
     "metadata": {},
     "output_type": "execute_result"
    },
    {
     "data": {
      "image/png": "[encoded data removed]",
      "text/plain": [
       "<Figure size 720x360 with 1 Axes>"
      ]
     },
     "metadata": {
      "image/png": {
       "height": 316,
       "width": 635
      },
      "needs_background": "light"
     },
     "output_type": "display_data"
    }
   ],
   "source": [
    "plt.figure(figsize=(10, 5))\n",
    "\n",
    "# This power spectrum\n",
    "plt.plot(ell, cl, alpha=0.5, label='This')\n",
    "\n",
    "plt.errorbar(\n",
    "    df_cib_auto['ell'],\n",
    "    df_cib_auto[f\"{freq}x{freq}\"],\n",
    "    yerr=df_cib_auto[f\"d{freq}x{freq}\"],\n",
    "    ls=\"None\",\n",
    "    capsize=4,\n",
    "    label='Reference')\n",
    "\n",
    "plt.xlim(1, lmax)\n",
    "\n",
    "# Labels & legend\n",
    "plt.legend()\n",
    "plt.xlabel(r'$\\ell$')\n",
    "plt.ylabel(r'$C_{\\ell}^{TT}\\ [\\rm Jy^2/sr]$')"
   ]
  },
  {
   "cell_type": "markdown",
   "metadata": {},
   "source": [
    "This mostly reproduces the power spectrum presented in the paper and in the accompanying `Cl_CIB_T1T2.csv` file, with the remaining difference coming from the mode coupling matrix $\\mathcal{M}_{\\ell\\ell'}$ that `healpy.anafast()` does not correct for.\n",
    "\n",
    "For a more detailed discussion on this, we refer to the Section on $C_{\\ell}$ estimation in Lenz, Doré, Lagache (2019), to [Hivon et al. (2002)](https://arxiv.org/abs/astro-ph/0105302), and to the PolSpice and PyMaster software packages."
   ]
  }
 ],
 "metadata": {
  "kernelspec": {
   "display_name": "Python 3",
   "language": "python",
   "name": "python3"
  },
  "language_info": {
   "codemirror_mode": {
    "name": "ipython",
    "version": 3
   },
   "file_extension": ".py",
   "mimetype": "text/x-python",
   "name": "python",
   "nbconvert_exporter": "python",
   "pygments_lexer": "ipython3",
   "version": "3.7.3"
  }
 },
 "nbformat": 4,
 "nbformat_minor": 2
}
